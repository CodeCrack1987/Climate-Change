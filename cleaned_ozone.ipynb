{
 "cells": [
  {
   "cell_type": "markdown",
   "id": "8d62919d",
   "metadata": {},
   "source": [
    "# import pandas as pd"
   ]
  },
  {
   "cell_type": "code",
   "execution_count": 2,
   "id": "9a3532fa",
   "metadata": {},
   "outputs": [],
   "source": [
    "import numpy as np\n",
    "\n",
    "from matplotlib import pyplot as plt\n",
    "%matplotlib inline\n",
    "\n",
    "import seaborn as sns"
   ]
  },
  {
   "cell_type": "code",
   "execution_count": 3,
   "id": "b66100c4",
   "metadata": {},
   "outputs": [],
   "source": [
    "df = pd.read_csv('Ozone layer depletion.csv')"
   ]
  },
  {
   "cell_type": "code",
   "execution_count": 4,
   "id": "e0f29e09",
   "metadata": {},
   "outputs": [
    {
     "data": {
      "text/html": [
       "<div>\n",
       "<style scoped>\n",
       "    .dataframe tbody tr th:only-of-type {\n",
       "        vertical-align: middle;\n",
       "    }\n",
       "\n",
       "    .dataframe tbody tr th {\n",
       "        vertical-align: top;\n",
       "    }\n",
       "\n",
       "    .dataframe thead th {\n",
       "        text-align: right;\n",
       "    }\n",
       "</style>\n",
       "<table border=\"1\" class=\"dataframe\">\n",
       "  <thead>\n",
       "    <tr style=\"text-align: right;\">\n",
       "      <th></th>\n",
       "      <th>Entity</th>\n",
       "      <th>Code</th>\n",
       "      <th>Year</th>\n",
       "      <th>Consumption of controlled substance (zero-filled) - Chemical: Methyl Chloroform (TCA)</th>\n",
       "      <th>Consumption of controlled substance (zero-filled) - Chemical: Methyl Bromide (MB)</th>\n",
       "      <th>Consumption of controlled substance (zero-filled) - Chemical: Hydrochlorofluorocarbons (HCFCs)</th>\n",
       "      <th>Consumption of controlled substance (zero-filled) - Chemical: Carbon Tetrachloride (CTC)</th>\n",
       "      <th>Consumption of controlled substance (zero-filled) - Chemical: Halons</th>\n",
       "      <th>Consumption of controlled substance (zero-filled) - Chemical: Chlorofluorocarbons (CFCs)</th>\n",
       "    </tr>\n",
       "  </thead>\n",
       "  <tbody>\n",
       "    <tr>\n",
       "      <th>0</th>\n",
       "      <td>Afghanistan</td>\n",
       "      <td>AFG</td>\n",
       "      <td>1986</td>\n",
       "      <td>0.0</td>\n",
       "      <td>0.0</td>\n",
       "      <td>0.00</td>\n",
       "      <td>0.0</td>\n",
       "      <td>3.0</td>\n",
       "      <td>220.0</td>\n",
       "    </tr>\n",
       "    <tr>\n",
       "      <th>1</th>\n",
       "      <td>Afghanistan</td>\n",
       "      <td>AFG</td>\n",
       "      <td>1989</td>\n",
       "      <td>0.0</td>\n",
       "      <td>0.0</td>\n",
       "      <td>0.00</td>\n",
       "      <td>0.9</td>\n",
       "      <td>0.0</td>\n",
       "      <td>0.0</td>\n",
       "    </tr>\n",
       "    <tr>\n",
       "      <th>2</th>\n",
       "      <td>Afghanistan</td>\n",
       "      <td>AFG</td>\n",
       "      <td>1995</td>\n",
       "      <td>0.0</td>\n",
       "      <td>0.0</td>\n",
       "      <td>0.00</td>\n",
       "      <td>0.0</td>\n",
       "      <td>1.9</td>\n",
       "      <td>380.0</td>\n",
       "    </tr>\n",
       "    <tr>\n",
       "      <th>3</th>\n",
       "      <td>Afghanistan</td>\n",
       "      <td>AFG</td>\n",
       "      <td>1996</td>\n",
       "      <td>0.0</td>\n",
       "      <td>0.0</td>\n",
       "      <td>0.00</td>\n",
       "      <td>0.0</td>\n",
       "      <td>1.9</td>\n",
       "      <td>380.0</td>\n",
       "    </tr>\n",
       "    <tr>\n",
       "      <th>4</th>\n",
       "      <td>Afghanistan</td>\n",
       "      <td>AFG</td>\n",
       "      <td>1997</td>\n",
       "      <td>0.0</td>\n",
       "      <td>0.0</td>\n",
       "      <td>0.00</td>\n",
       "      <td>0.0</td>\n",
       "      <td>1.9</td>\n",
       "      <td>380.0</td>\n",
       "    </tr>\n",
       "    <tr>\n",
       "      <th>...</th>\n",
       "      <td>...</td>\n",
       "      <td>...</td>\n",
       "      <td>...</td>\n",
       "      <td>...</td>\n",
       "      <td>...</td>\n",
       "      <td>...</td>\n",
       "      <td>...</td>\n",
       "      <td>...</td>\n",
       "      <td>...</td>\n",
       "    </tr>\n",
       "    <tr>\n",
       "      <th>5637</th>\n",
       "      <td>Zimbabwe</td>\n",
       "      <td>ZWE</td>\n",
       "      <td>2018</td>\n",
       "      <td>0.0</td>\n",
       "      <td>0.0</td>\n",
       "      <td>10.07</td>\n",
       "      <td>0.0</td>\n",
       "      <td>0.0</td>\n",
       "      <td>0.0</td>\n",
       "    </tr>\n",
       "    <tr>\n",
       "      <th>5638</th>\n",
       "      <td>Zimbabwe</td>\n",
       "      <td>ZWE</td>\n",
       "      <td>2019</td>\n",
       "      <td>0.0</td>\n",
       "      <td>0.0</td>\n",
       "      <td>9.85</td>\n",
       "      <td>0.0</td>\n",
       "      <td>0.0</td>\n",
       "      <td>0.0</td>\n",
       "    </tr>\n",
       "    <tr>\n",
       "      <th>5639</th>\n",
       "      <td>Zimbabwe</td>\n",
       "      <td>ZWE</td>\n",
       "      <td>2020</td>\n",
       "      <td>0.0</td>\n",
       "      <td>0.0</td>\n",
       "      <td>6.28</td>\n",
       "      <td>0.0</td>\n",
       "      <td>0.0</td>\n",
       "      <td>0.0</td>\n",
       "    </tr>\n",
       "    <tr>\n",
       "      <th>5640</th>\n",
       "      <td>Zimbabwe</td>\n",
       "      <td>ZWE</td>\n",
       "      <td>2021</td>\n",
       "      <td>0.0</td>\n",
       "      <td>0.0</td>\n",
       "      <td>4.10</td>\n",
       "      <td>0.0</td>\n",
       "      <td>0.0</td>\n",
       "      <td>0.0</td>\n",
       "    </tr>\n",
       "    <tr>\n",
       "      <th>5641</th>\n",
       "      <td>Zimbabwe</td>\n",
       "      <td>ZWE</td>\n",
       "      <td>2022</td>\n",
       "      <td>0.0</td>\n",
       "      <td>0.0</td>\n",
       "      <td>3.79</td>\n",
       "      <td>0.0</td>\n",
       "      <td>0.0</td>\n",
       "      <td>0.0</td>\n",
       "    </tr>\n",
       "  </tbody>\n",
       "</table>\n",
       "<p>5642 rows × 9 columns</p>\n",
       "</div>"
      ],
      "text/plain": [
       "           Entity Code  Year  \\\n",
       "0     Afghanistan  AFG  1986   \n",
       "1     Afghanistan  AFG  1989   \n",
       "2     Afghanistan  AFG  1995   \n",
       "3     Afghanistan  AFG  1996   \n",
       "4     Afghanistan  AFG  1997   \n",
       "...           ...  ...   ...   \n",
       "5637     Zimbabwe  ZWE  2018   \n",
       "5638     Zimbabwe  ZWE  2019   \n",
       "5639     Zimbabwe  ZWE  2020   \n",
       "5640     Zimbabwe  ZWE  2021   \n",
       "5641     Zimbabwe  ZWE  2022   \n",
       "\n",
       "      Consumption of controlled substance (zero-filled) - Chemical: Methyl Chloroform (TCA)  \\\n",
       "0                                                   0.0                                       \n",
       "1                                                   0.0                                       \n",
       "2                                                   0.0                                       \n",
       "3                                                   0.0                                       \n",
       "4                                                   0.0                                       \n",
       "...                                                 ...                                       \n",
       "5637                                                0.0                                       \n",
       "5638                                                0.0                                       \n",
       "5639                                                0.0                                       \n",
       "5640                                                0.0                                       \n",
       "5641                                                0.0                                       \n",
       "\n",
       "      Consumption of controlled substance (zero-filled) - Chemical: Methyl Bromide (MB)  \\\n",
       "0                                                   0.0                                   \n",
       "1                                                   0.0                                   \n",
       "2                                                   0.0                                   \n",
       "3                                                   0.0                                   \n",
       "4                                                   0.0                                   \n",
       "...                                                 ...                                   \n",
       "5637                                                0.0                                   \n",
       "5638                                                0.0                                   \n",
       "5639                                                0.0                                   \n",
       "5640                                                0.0                                   \n",
       "5641                                                0.0                                   \n",
       "\n",
       "      Consumption of controlled substance (zero-filled) - Chemical: Hydrochlorofluorocarbons (HCFCs)  \\\n",
       "0                                                  0.00                                                \n",
       "1                                                  0.00                                                \n",
       "2                                                  0.00                                                \n",
       "3                                                  0.00                                                \n",
       "4                                                  0.00                                                \n",
       "...                                                 ...                                                \n",
       "5637                                              10.07                                                \n",
       "5638                                               9.85                                                \n",
       "5639                                               6.28                                                \n",
       "5640                                               4.10                                                \n",
       "5641                                               3.79                                                \n",
       "\n",
       "      Consumption of controlled substance (zero-filled) - Chemical: Carbon Tetrachloride (CTC)  \\\n",
       "0                                                   0.0                                          \n",
       "1                                                   0.9                                          \n",
       "2                                                   0.0                                          \n",
       "3                                                   0.0                                          \n",
       "4                                                   0.0                                          \n",
       "...                                                 ...                                          \n",
       "5637                                                0.0                                          \n",
       "5638                                                0.0                                          \n",
       "5639                                                0.0                                          \n",
       "5640                                                0.0                                          \n",
       "5641                                                0.0                                          \n",
       "\n",
       "      Consumption of controlled substance (zero-filled) - Chemical: Halons  \\\n",
       "0                                                   3.0                      \n",
       "1                                                   0.0                      \n",
       "2                                                   1.9                      \n",
       "3                                                   1.9                      \n",
       "4                                                   1.9                      \n",
       "...                                                 ...                      \n",
       "5637                                                0.0                      \n",
       "5638                                                0.0                      \n",
       "5639                                                0.0                      \n",
       "5640                                                0.0                      \n",
       "5641                                                0.0                      \n",
       "\n",
       "      Consumption of controlled substance (zero-filled) - Chemical: Chlorofluorocarbons (CFCs)  \n",
       "0                                                 220.0                                         \n",
       "1                                                   0.0                                         \n",
       "2                                                 380.0                                         \n",
       "3                                                 380.0                                         \n",
       "4                                                 380.0                                         \n",
       "...                                                 ...                                         \n",
       "5637                                                0.0                                         \n",
       "5638                                                0.0                                         \n",
       "5639                                                0.0                                         \n",
       "5640                                                0.0                                         \n",
       "5641                                                0.0                                         \n",
       "\n",
       "[5642 rows x 9 columns]"
      ]
     },
     "execution_count": 4,
     "metadata": {},
     "output_type": "execute_result"
    }
   ],
   "source": [
    "df"
   ]
  },
  {
   "cell_type": "code",
   "execution_count": 5,
   "id": "f7621e9b",
   "metadata": {},
   "outputs": [
    {
     "data": {
      "text/plain": [
       "Entity                                                                                            False\n",
       "Code                                                                                               True\n",
       "Year                                                                                              False\n",
       "Consumption of controlled substance (zero-filled) - Chemical: Methyl Chloroform (TCA)             False\n",
       "Consumption of controlled substance (zero-filled) - Chemical: Methyl Bromide (MB)                 False\n",
       "Consumption of controlled substance (zero-filled) - Chemical: Hydrochlorofluorocarbons (HCFCs)    False\n",
       "Consumption of controlled substance (zero-filled) - Chemical: Carbon Tetrachloride (CTC)          False\n",
       "Consumption of controlled substance (zero-filled) - Chemical: Halons                              False\n",
       "Consumption of controlled substance (zero-filled) - Chemical: Chlorofluorocarbons (CFCs)          False\n",
       "dtype: bool"
      ]
     },
     "execution_count": 5,
     "metadata": {},
     "output_type": "execute_result"
    }
   ],
   "source": [
    "df.isnull().any()"
   ]
  },
  {
   "cell_type": "code",
   "execution_count": 6,
   "id": "c7120103",
   "metadata": {},
   "outputs": [
    {
     "name": "stdout",
     "output_type": "stream",
     "text": [
      "<class 'pandas.core.frame.DataFrame'>\n",
      "RangeIndex: 5642 entries, 0 to 5641\n",
      "Data columns (total 9 columns):\n",
      " #   Column                                                                                          Non-Null Count  Dtype  \n",
      "---  ------                                                                                          --------------  -----  \n",
      " 0   Entity                                                                                          5642 non-null   object \n",
      " 1   Code                                                                                            5414 non-null   object \n",
      " 2   Year                                                                                            5642 non-null   int64  \n",
      " 3   Consumption of controlled substance (zero-filled) - Chemical: Methyl Chloroform (TCA)           5642 non-null   float64\n",
      " 4   Consumption of controlled substance (zero-filled) - Chemical: Methyl Bromide (MB)               5642 non-null   float64\n",
      " 5   Consumption of controlled substance (zero-filled) - Chemical: Hydrochlorofluorocarbons (HCFCs)  5642 non-null   float64\n",
      " 6   Consumption of controlled substance (zero-filled) - Chemical: Carbon Tetrachloride (CTC)        5642 non-null   float64\n",
      " 7   Consumption of controlled substance (zero-filled) - Chemical: Halons                            5642 non-null   float64\n",
      " 8   Consumption of controlled substance (zero-filled) - Chemical: Chlorofluorocarbons (CFCs)        5642 non-null   float64\n",
      "dtypes: float64(6), int64(1), object(2)\n",
      "memory usage: 396.8+ KB\n"
     ]
    }
   ],
   "source": [
    "df.info()"
   ]
  },
  {
   "cell_type": "code",
   "execution_count": 7,
   "id": "805c29c0",
   "metadata": {},
   "outputs": [
    {
     "data": {
      "text/plain": [
       "Entity                                                                                             object\n",
       "Code                                                                                               object\n",
       "Year                                                                                                int64\n",
       "Consumption of controlled substance (zero-filled) - Chemical: Methyl Chloroform (TCA)             float64\n",
       "Consumption of controlled substance (zero-filled) - Chemical: Methyl Bromide (MB)                 float64\n",
       "Consumption of controlled substance (zero-filled) - Chemical: Hydrochlorofluorocarbons (HCFCs)    float64\n",
       "Consumption of controlled substance (zero-filled) - Chemical: Carbon Tetrachloride (CTC)          float64\n",
       "Consumption of controlled substance (zero-filled) - Chemical: Halons                              float64\n",
       "Consumption of controlled substance (zero-filled) - Chemical: Chlorofluorocarbons (CFCs)          float64\n",
       "dtype: object"
      ]
     },
     "execution_count": 7,
     "metadata": {},
     "output_type": "execute_result"
    }
   ],
   "source": [
    "df.dtypes"
   ]
  },
  {
   "cell_type": "code",
   "execution_count": 8,
   "id": "9a1950d4",
   "metadata": {},
   "outputs": [
    {
     "data": {
      "text/plain": [
       "0"
      ]
     },
     "execution_count": 8,
     "metadata": {},
     "output_type": "execute_result"
    }
   ],
   "source": [
    "df.duplicated().sum()"
   ]
  },
  {
   "cell_type": "code",
   "execution_count": null,
   "id": "0634d88c",
   "metadata": {},
   "outputs": [],
   "source": []
  },
  {
   "cell_type": "code",
   "execution_count": 9,
   "id": "971ed1a4",
   "metadata": {},
   "outputs": [],
   "source": [
    "df.rename(columns = {'Entity':'Country'},inplace=True)"
   ]
  },
  {
   "cell_type": "code",
   "execution_count": 10,
   "id": "7a59bd72",
   "metadata": {
    "scrolled": true
   },
   "outputs": [
    {
     "data": {
      "text/html": [
       "<div>\n",
       "<style scoped>\n",
       "    .dataframe tbody tr th:only-of-type {\n",
       "        vertical-align: middle;\n",
       "    }\n",
       "\n",
       "    .dataframe tbody tr th {\n",
       "        vertical-align: top;\n",
       "    }\n",
       "\n",
       "    .dataframe thead th {\n",
       "        text-align: right;\n",
       "    }\n",
       "</style>\n",
       "<table border=\"1\" class=\"dataframe\">\n",
       "  <thead>\n",
       "    <tr style=\"text-align: right;\">\n",
       "      <th></th>\n",
       "      <th>Country</th>\n",
       "      <th>Code</th>\n",
       "      <th>Year</th>\n",
       "      <th>Consumption of controlled substance (zero-filled) - Chemical: Methyl Chloroform (TCA)</th>\n",
       "      <th>Consumption of controlled substance (zero-filled) - Chemical: Methyl Bromide (MB)</th>\n",
       "      <th>Consumption of controlled substance (zero-filled) - Chemical: Hydrochlorofluorocarbons (HCFCs)</th>\n",
       "      <th>Consumption of controlled substance (zero-filled) - Chemical: Carbon Tetrachloride (CTC)</th>\n",
       "      <th>Consumption of controlled substance (zero-filled) - Chemical: Halons</th>\n",
       "      <th>Consumption of controlled substance (zero-filled) - Chemical: Chlorofluorocarbons (CFCs)</th>\n",
       "    </tr>\n",
       "  </thead>\n",
       "  <tbody>\n",
       "    <tr>\n",
       "      <th>0</th>\n",
       "      <td>Afghanistan</td>\n",
       "      <td>AFG</td>\n",
       "      <td>1986</td>\n",
       "      <td>0.0</td>\n",
       "      <td>0.0</td>\n",
       "      <td>0.00</td>\n",
       "      <td>0.0</td>\n",
       "      <td>3.0</td>\n",
       "      <td>220.0</td>\n",
       "    </tr>\n",
       "    <tr>\n",
       "      <th>1</th>\n",
       "      <td>Afghanistan</td>\n",
       "      <td>AFG</td>\n",
       "      <td>1989</td>\n",
       "      <td>0.0</td>\n",
       "      <td>0.0</td>\n",
       "      <td>0.00</td>\n",
       "      <td>0.9</td>\n",
       "      <td>0.0</td>\n",
       "      <td>0.0</td>\n",
       "    </tr>\n",
       "    <tr>\n",
       "      <th>2</th>\n",
       "      <td>Afghanistan</td>\n",
       "      <td>AFG</td>\n",
       "      <td>1995</td>\n",
       "      <td>0.0</td>\n",
       "      <td>0.0</td>\n",
       "      <td>0.00</td>\n",
       "      <td>0.0</td>\n",
       "      <td>1.9</td>\n",
       "      <td>380.0</td>\n",
       "    </tr>\n",
       "    <tr>\n",
       "      <th>3</th>\n",
       "      <td>Afghanistan</td>\n",
       "      <td>AFG</td>\n",
       "      <td>1996</td>\n",
       "      <td>0.0</td>\n",
       "      <td>0.0</td>\n",
       "      <td>0.00</td>\n",
       "      <td>0.0</td>\n",
       "      <td>1.9</td>\n",
       "      <td>380.0</td>\n",
       "    </tr>\n",
       "    <tr>\n",
       "      <th>4</th>\n",
       "      <td>Afghanistan</td>\n",
       "      <td>AFG</td>\n",
       "      <td>1997</td>\n",
       "      <td>0.0</td>\n",
       "      <td>0.0</td>\n",
       "      <td>0.00</td>\n",
       "      <td>0.0</td>\n",
       "      <td>1.9</td>\n",
       "      <td>380.0</td>\n",
       "    </tr>\n",
       "    <tr>\n",
       "      <th>...</th>\n",
       "      <td>...</td>\n",
       "      <td>...</td>\n",
       "      <td>...</td>\n",
       "      <td>...</td>\n",
       "      <td>...</td>\n",
       "      <td>...</td>\n",
       "      <td>...</td>\n",
       "      <td>...</td>\n",
       "      <td>...</td>\n",
       "    </tr>\n",
       "    <tr>\n",
       "      <th>5637</th>\n",
       "      <td>Zimbabwe</td>\n",
       "      <td>ZWE</td>\n",
       "      <td>2018</td>\n",
       "      <td>0.0</td>\n",
       "      <td>0.0</td>\n",
       "      <td>10.07</td>\n",
       "      <td>0.0</td>\n",
       "      <td>0.0</td>\n",
       "      <td>0.0</td>\n",
       "    </tr>\n",
       "    <tr>\n",
       "      <th>5638</th>\n",
       "      <td>Zimbabwe</td>\n",
       "      <td>ZWE</td>\n",
       "      <td>2019</td>\n",
       "      <td>0.0</td>\n",
       "      <td>0.0</td>\n",
       "      <td>9.85</td>\n",
       "      <td>0.0</td>\n",
       "      <td>0.0</td>\n",
       "      <td>0.0</td>\n",
       "    </tr>\n",
       "    <tr>\n",
       "      <th>5639</th>\n",
       "      <td>Zimbabwe</td>\n",
       "      <td>ZWE</td>\n",
       "      <td>2020</td>\n",
       "      <td>0.0</td>\n",
       "      <td>0.0</td>\n",
       "      <td>6.28</td>\n",
       "      <td>0.0</td>\n",
       "      <td>0.0</td>\n",
       "      <td>0.0</td>\n",
       "    </tr>\n",
       "    <tr>\n",
       "      <th>5640</th>\n",
       "      <td>Zimbabwe</td>\n",
       "      <td>ZWE</td>\n",
       "      <td>2021</td>\n",
       "      <td>0.0</td>\n",
       "      <td>0.0</td>\n",
       "      <td>4.10</td>\n",
       "      <td>0.0</td>\n",
       "      <td>0.0</td>\n",
       "      <td>0.0</td>\n",
       "    </tr>\n",
       "    <tr>\n",
       "      <th>5641</th>\n",
       "      <td>Zimbabwe</td>\n",
       "      <td>ZWE</td>\n",
       "      <td>2022</td>\n",
       "      <td>0.0</td>\n",
       "      <td>0.0</td>\n",
       "      <td>3.79</td>\n",
       "      <td>0.0</td>\n",
       "      <td>0.0</td>\n",
       "      <td>0.0</td>\n",
       "    </tr>\n",
       "  </tbody>\n",
       "</table>\n",
       "<p>5642 rows × 9 columns</p>\n",
       "</div>"
      ],
      "text/plain": [
       "          Country Code  Year  \\\n",
       "0     Afghanistan  AFG  1986   \n",
       "1     Afghanistan  AFG  1989   \n",
       "2     Afghanistan  AFG  1995   \n",
       "3     Afghanistan  AFG  1996   \n",
       "4     Afghanistan  AFG  1997   \n",
       "...           ...  ...   ...   \n",
       "5637     Zimbabwe  ZWE  2018   \n",
       "5638     Zimbabwe  ZWE  2019   \n",
       "5639     Zimbabwe  ZWE  2020   \n",
       "5640     Zimbabwe  ZWE  2021   \n",
       "5641     Zimbabwe  ZWE  2022   \n",
       "\n",
       "      Consumption of controlled substance (zero-filled) - Chemical: Methyl Chloroform (TCA)  \\\n",
       "0                                                   0.0                                       \n",
       "1                                                   0.0                                       \n",
       "2                                                   0.0                                       \n",
       "3                                                   0.0                                       \n",
       "4                                                   0.0                                       \n",
       "...                                                 ...                                       \n",
       "5637                                                0.0                                       \n",
       "5638                                                0.0                                       \n",
       "5639                                                0.0                                       \n",
       "5640                                                0.0                                       \n",
       "5641                                                0.0                                       \n",
       "\n",
       "      Consumption of controlled substance (zero-filled) - Chemical: Methyl Bromide (MB)  \\\n",
       "0                                                   0.0                                   \n",
       "1                                                   0.0                                   \n",
       "2                                                   0.0                                   \n",
       "3                                                   0.0                                   \n",
       "4                                                   0.0                                   \n",
       "...                                                 ...                                   \n",
       "5637                                                0.0                                   \n",
       "5638                                                0.0                                   \n",
       "5639                                                0.0                                   \n",
       "5640                                                0.0                                   \n",
       "5641                                                0.0                                   \n",
       "\n",
       "      Consumption of controlled substance (zero-filled) - Chemical: Hydrochlorofluorocarbons (HCFCs)  \\\n",
       "0                                                  0.00                                                \n",
       "1                                                  0.00                                                \n",
       "2                                                  0.00                                                \n",
       "3                                                  0.00                                                \n",
       "4                                                  0.00                                                \n",
       "...                                                 ...                                                \n",
       "5637                                              10.07                                                \n",
       "5638                                               9.85                                                \n",
       "5639                                               6.28                                                \n",
       "5640                                               4.10                                                \n",
       "5641                                               3.79                                                \n",
       "\n",
       "      Consumption of controlled substance (zero-filled) - Chemical: Carbon Tetrachloride (CTC)  \\\n",
       "0                                                   0.0                                          \n",
       "1                                                   0.9                                          \n",
       "2                                                   0.0                                          \n",
       "3                                                   0.0                                          \n",
       "4                                                   0.0                                          \n",
       "...                                                 ...                                          \n",
       "5637                                                0.0                                          \n",
       "5638                                                0.0                                          \n",
       "5639                                                0.0                                          \n",
       "5640                                                0.0                                          \n",
       "5641                                                0.0                                          \n",
       "\n",
       "      Consumption of controlled substance (zero-filled) - Chemical: Halons  \\\n",
       "0                                                   3.0                      \n",
       "1                                                   0.0                      \n",
       "2                                                   1.9                      \n",
       "3                                                   1.9                      \n",
       "4                                                   1.9                      \n",
       "...                                                 ...                      \n",
       "5637                                                0.0                      \n",
       "5638                                                0.0                      \n",
       "5639                                                0.0                      \n",
       "5640                                                0.0                      \n",
       "5641                                                0.0                      \n",
       "\n",
       "      Consumption of controlled substance (zero-filled) - Chemical: Chlorofluorocarbons (CFCs)  \n",
       "0                                                 220.0                                         \n",
       "1                                                   0.0                                         \n",
       "2                                                 380.0                                         \n",
       "3                                                 380.0                                         \n",
       "4                                                 380.0                                         \n",
       "...                                                 ...                                         \n",
       "5637                                                0.0                                         \n",
       "5638                                                0.0                                         \n",
       "5639                                                0.0                                         \n",
       "5640                                                0.0                                         \n",
       "5641                                                0.0                                         \n",
       "\n",
       "[5642 rows x 9 columns]"
      ]
     },
     "execution_count": 10,
     "metadata": {},
     "output_type": "execute_result"
    }
   ],
   "source": [
    "df"
   ]
  },
  {
   "cell_type": "code",
   "execution_count": 11,
   "id": "291b6407",
   "metadata": {},
   "outputs": [
    {
     "data": {
      "text/html": [
       "<div>\n",
       "<style scoped>\n",
       "    .dataframe tbody tr th:only-of-type {\n",
       "        vertical-align: middle;\n",
       "    }\n",
       "\n",
       "    .dataframe tbody tr th {\n",
       "        vertical-align: top;\n",
       "    }\n",
       "\n",
       "    .dataframe thead th {\n",
       "        text-align: right;\n",
       "    }\n",
       "</style>\n",
       "<table border=\"1\" class=\"dataframe\">\n",
       "  <thead>\n",
       "    <tr style=\"text-align: right;\">\n",
       "      <th></th>\n",
       "      <th>Country</th>\n",
       "      <th>Code</th>\n",
       "      <th>Year</th>\n",
       "      <th>Consumption of controlled substance (zero-filled) - Chemical: Methyl Chloroform (TCA)</th>\n",
       "      <th>Consumption of controlled substance (zero-filled) - Chemical: Methyl Bromide (MB)</th>\n",
       "      <th>Consumption of controlled substance (zero-filled) - Chemical: Hydrochlorofluorocarbons (HCFCs)</th>\n",
       "      <th>Consumption of controlled substance (zero-filled) - Chemical: Carbon Tetrachloride (CTC)</th>\n",
       "      <th>Consumption of controlled substance (zero-filled) - Chemical: Halons</th>\n",
       "      <th>Consumption of controlled substance (zero-filled) - Chemical: Chlorofluorocarbons (CFCs)</th>\n",
       "    </tr>\n",
       "  </thead>\n",
       "  <tbody>\n",
       "    <tr>\n",
       "      <th>0</th>\n",
       "      <td>Afghanistan</td>\n",
       "      <td>AFG</td>\n",
       "      <td>1986</td>\n",
       "      <td>0.0</td>\n",
       "      <td>0.0</td>\n",
       "      <td>0.0</td>\n",
       "      <td>0.0</td>\n",
       "      <td>3.0</td>\n",
       "      <td>220.0</td>\n",
       "    </tr>\n",
       "    <tr>\n",
       "      <th>1</th>\n",
       "      <td>Afghanistan</td>\n",
       "      <td>AFG</td>\n",
       "      <td>1989</td>\n",
       "      <td>0.0</td>\n",
       "      <td>0.0</td>\n",
       "      <td>0.0</td>\n",
       "      <td>0.9</td>\n",
       "      <td>0.0</td>\n",
       "      <td>0.0</td>\n",
       "    </tr>\n",
       "  </tbody>\n",
       "</table>\n",
       "</div>"
      ],
      "text/plain": [
       "       Country Code  Year  \\\n",
       "0  Afghanistan  AFG  1986   \n",
       "1  Afghanistan  AFG  1989   \n",
       "\n",
       "   Consumption of controlled substance (zero-filled) - Chemical: Methyl Chloroform (TCA)  \\\n",
       "0                                                0.0                                       \n",
       "1                                                0.0                                       \n",
       "\n",
       "   Consumption of controlled substance (zero-filled) - Chemical: Methyl Bromide (MB)  \\\n",
       "0                                                0.0                                   \n",
       "1                                                0.0                                   \n",
       "\n",
       "   Consumption of controlled substance (zero-filled) - Chemical: Hydrochlorofluorocarbons (HCFCs)  \\\n",
       "0                                                0.0                                                \n",
       "1                                                0.0                                                \n",
       "\n",
       "   Consumption of controlled substance (zero-filled) - Chemical: Carbon Tetrachloride (CTC)  \\\n",
       "0                                                0.0                                          \n",
       "1                                                0.9                                          \n",
       "\n",
       "   Consumption of controlled substance (zero-filled) - Chemical: Halons  \\\n",
       "0                                                3.0                      \n",
       "1                                                0.0                      \n",
       "\n",
       "   Consumption of controlled substance (zero-filled) - Chemical: Chlorofluorocarbons (CFCs)  \n",
       "0                                              220.0                                         \n",
       "1                                                0.0                                         "
      ]
     },
     "execution_count": 11,
     "metadata": {},
     "output_type": "execute_result"
    }
   ],
   "source": [
    "df.head(2)"
   ]
  },
  {
   "cell_type": "code",
   "execution_count": 12,
   "id": "26978470",
   "metadata": {},
   "outputs": [
    {
     "data": {
      "text/html": [
       "<div>\n",
       "<style scoped>\n",
       "    .dataframe tbody tr th:only-of-type {\n",
       "        vertical-align: middle;\n",
       "    }\n",
       "\n",
       "    .dataframe tbody tr th {\n",
       "        vertical-align: top;\n",
       "    }\n",
       "\n",
       "    .dataframe thead th {\n",
       "        text-align: right;\n",
       "    }\n",
       "</style>\n",
       "<table border=\"1\" class=\"dataframe\">\n",
       "  <thead>\n",
       "    <tr style=\"text-align: right;\">\n",
       "      <th></th>\n",
       "      <th>Country</th>\n",
       "      <th>Year</th>\n",
       "      <th>Consumption of controlled substance (zero-filled) - Chemical: Methyl Chloroform (TCA)</th>\n",
       "      <th>Consumption of controlled substance (zero-filled) - Chemical: Methyl Bromide (MB)</th>\n",
       "      <th>Consumption of controlled substance (zero-filled) - Chemical: Hydrochlorofluorocarbons (HCFCs)</th>\n",
       "      <th>Consumption of controlled substance (zero-filled) - Chemical: Carbon Tetrachloride (CTC)</th>\n",
       "      <th>Consumption of controlled substance (zero-filled) - Chemical: Halons</th>\n",
       "      <th>Consumption of controlled substance (zero-filled) - Chemical: Chlorofluorocarbons (CFCs)</th>\n",
       "    </tr>\n",
       "  </thead>\n",
       "  <tbody>\n",
       "    <tr>\n",
       "      <th>0</th>\n",
       "      <td>Afghanistan</td>\n",
       "      <td>1986</td>\n",
       "      <td>0.0</td>\n",
       "      <td>0.0</td>\n",
       "      <td>0.00</td>\n",
       "      <td>0.0</td>\n",
       "      <td>3.0</td>\n",
       "      <td>220.0</td>\n",
       "    </tr>\n",
       "    <tr>\n",
       "      <th>1</th>\n",
       "      <td>Afghanistan</td>\n",
       "      <td>1989</td>\n",
       "      <td>0.0</td>\n",
       "      <td>0.0</td>\n",
       "      <td>0.00</td>\n",
       "      <td>0.9</td>\n",
       "      <td>0.0</td>\n",
       "      <td>0.0</td>\n",
       "    </tr>\n",
       "    <tr>\n",
       "      <th>2</th>\n",
       "      <td>Afghanistan</td>\n",
       "      <td>1995</td>\n",
       "      <td>0.0</td>\n",
       "      <td>0.0</td>\n",
       "      <td>0.00</td>\n",
       "      <td>0.0</td>\n",
       "      <td>1.9</td>\n",
       "      <td>380.0</td>\n",
       "    </tr>\n",
       "    <tr>\n",
       "      <th>3</th>\n",
       "      <td>Afghanistan</td>\n",
       "      <td>1996</td>\n",
       "      <td>0.0</td>\n",
       "      <td>0.0</td>\n",
       "      <td>0.00</td>\n",
       "      <td>0.0</td>\n",
       "      <td>1.9</td>\n",
       "      <td>380.0</td>\n",
       "    </tr>\n",
       "    <tr>\n",
       "      <th>4</th>\n",
       "      <td>Afghanistan</td>\n",
       "      <td>1997</td>\n",
       "      <td>0.0</td>\n",
       "      <td>0.0</td>\n",
       "      <td>0.00</td>\n",
       "      <td>0.0</td>\n",
       "      <td>1.9</td>\n",
       "      <td>380.0</td>\n",
       "    </tr>\n",
       "    <tr>\n",
       "      <th>...</th>\n",
       "      <td>...</td>\n",
       "      <td>...</td>\n",
       "      <td>...</td>\n",
       "      <td>...</td>\n",
       "      <td>...</td>\n",
       "      <td>...</td>\n",
       "      <td>...</td>\n",
       "      <td>...</td>\n",
       "    </tr>\n",
       "    <tr>\n",
       "      <th>5637</th>\n",
       "      <td>Zimbabwe</td>\n",
       "      <td>2018</td>\n",
       "      <td>0.0</td>\n",
       "      <td>0.0</td>\n",
       "      <td>10.07</td>\n",
       "      <td>0.0</td>\n",
       "      <td>0.0</td>\n",
       "      <td>0.0</td>\n",
       "    </tr>\n",
       "    <tr>\n",
       "      <th>5638</th>\n",
       "      <td>Zimbabwe</td>\n",
       "      <td>2019</td>\n",
       "      <td>0.0</td>\n",
       "      <td>0.0</td>\n",
       "      <td>9.85</td>\n",
       "      <td>0.0</td>\n",
       "      <td>0.0</td>\n",
       "      <td>0.0</td>\n",
       "    </tr>\n",
       "    <tr>\n",
       "      <th>5639</th>\n",
       "      <td>Zimbabwe</td>\n",
       "      <td>2020</td>\n",
       "      <td>0.0</td>\n",
       "      <td>0.0</td>\n",
       "      <td>6.28</td>\n",
       "      <td>0.0</td>\n",
       "      <td>0.0</td>\n",
       "      <td>0.0</td>\n",
       "    </tr>\n",
       "    <tr>\n",
       "      <th>5640</th>\n",
       "      <td>Zimbabwe</td>\n",
       "      <td>2021</td>\n",
       "      <td>0.0</td>\n",
       "      <td>0.0</td>\n",
       "      <td>4.10</td>\n",
       "      <td>0.0</td>\n",
       "      <td>0.0</td>\n",
       "      <td>0.0</td>\n",
       "    </tr>\n",
       "    <tr>\n",
       "      <th>5641</th>\n",
       "      <td>Zimbabwe</td>\n",
       "      <td>2022</td>\n",
       "      <td>0.0</td>\n",
       "      <td>0.0</td>\n",
       "      <td>3.79</td>\n",
       "      <td>0.0</td>\n",
       "      <td>0.0</td>\n",
       "      <td>0.0</td>\n",
       "    </tr>\n",
       "  </tbody>\n",
       "</table>\n",
       "<p>5642 rows × 8 columns</p>\n",
       "</div>"
      ],
      "text/plain": [
       "          Country  Year  \\\n",
       "0     Afghanistan  1986   \n",
       "1     Afghanistan  1989   \n",
       "2     Afghanistan  1995   \n",
       "3     Afghanistan  1996   \n",
       "4     Afghanistan  1997   \n",
       "...           ...   ...   \n",
       "5637     Zimbabwe  2018   \n",
       "5638     Zimbabwe  2019   \n",
       "5639     Zimbabwe  2020   \n",
       "5640     Zimbabwe  2021   \n",
       "5641     Zimbabwe  2022   \n",
       "\n",
       "      Consumption of controlled substance (zero-filled) - Chemical: Methyl Chloroform (TCA)  \\\n",
       "0                                                   0.0                                       \n",
       "1                                                   0.0                                       \n",
       "2                                                   0.0                                       \n",
       "3                                                   0.0                                       \n",
       "4                                                   0.0                                       \n",
       "...                                                 ...                                       \n",
       "5637                                                0.0                                       \n",
       "5638                                                0.0                                       \n",
       "5639                                                0.0                                       \n",
       "5640                                                0.0                                       \n",
       "5641                                                0.0                                       \n",
       "\n",
       "      Consumption of controlled substance (zero-filled) - Chemical: Methyl Bromide (MB)  \\\n",
       "0                                                   0.0                                   \n",
       "1                                                   0.0                                   \n",
       "2                                                   0.0                                   \n",
       "3                                                   0.0                                   \n",
       "4                                                   0.0                                   \n",
       "...                                                 ...                                   \n",
       "5637                                                0.0                                   \n",
       "5638                                                0.0                                   \n",
       "5639                                                0.0                                   \n",
       "5640                                                0.0                                   \n",
       "5641                                                0.0                                   \n",
       "\n",
       "      Consumption of controlled substance (zero-filled) - Chemical: Hydrochlorofluorocarbons (HCFCs)  \\\n",
       "0                                                  0.00                                                \n",
       "1                                                  0.00                                                \n",
       "2                                                  0.00                                                \n",
       "3                                                  0.00                                                \n",
       "4                                                  0.00                                                \n",
       "...                                                 ...                                                \n",
       "5637                                              10.07                                                \n",
       "5638                                               9.85                                                \n",
       "5639                                               6.28                                                \n",
       "5640                                               4.10                                                \n",
       "5641                                               3.79                                                \n",
       "\n",
       "      Consumption of controlled substance (zero-filled) - Chemical: Carbon Tetrachloride (CTC)  \\\n",
       "0                                                   0.0                                          \n",
       "1                                                   0.9                                          \n",
       "2                                                   0.0                                          \n",
       "3                                                   0.0                                          \n",
       "4                                                   0.0                                          \n",
       "...                                                 ...                                          \n",
       "5637                                                0.0                                          \n",
       "5638                                                0.0                                          \n",
       "5639                                                0.0                                          \n",
       "5640                                                0.0                                          \n",
       "5641                                                0.0                                          \n",
       "\n",
       "      Consumption of controlled substance (zero-filled) - Chemical: Halons  \\\n",
       "0                                                   3.0                      \n",
       "1                                                   0.0                      \n",
       "2                                                   1.9                      \n",
       "3                                                   1.9                      \n",
       "4                                                   1.9                      \n",
       "...                                                 ...                      \n",
       "5637                                                0.0                      \n",
       "5638                                                0.0                      \n",
       "5639                                                0.0                      \n",
       "5640                                                0.0                      \n",
       "5641                                                0.0                      \n",
       "\n",
       "      Consumption of controlled substance (zero-filled) - Chemical: Chlorofluorocarbons (CFCs)  \n",
       "0                                                 220.0                                         \n",
       "1                                                   0.0                                         \n",
       "2                                                 380.0                                         \n",
       "3                                                 380.0                                         \n",
       "4                                                 380.0                                         \n",
       "...                                                 ...                                         \n",
       "5637                                                0.0                                         \n",
       "5638                                                0.0                                         \n",
       "5639                                                0.0                                         \n",
       "5640                                                0.0                                         \n",
       "5641                                                0.0                                         \n",
       "\n",
       "[5642 rows x 8 columns]"
      ]
     },
     "execution_count": 12,
     "metadata": {},
     "output_type": "execute_result"
    }
   ],
   "source": [
    "df.drop('Code',axis=1)"
   ]
  },
  {
   "cell_type": "code",
   "execution_count": 13,
   "id": "4da66ca7",
   "metadata": {},
   "outputs": [
    {
     "name": "stdout",
     "output_type": "stream",
     "text": [
      "<class 'pandas.core.frame.DataFrame'>\n",
      "RangeIndex: 5642 entries, 0 to 5641\n",
      "Data columns (total 9 columns):\n",
      " #   Column                                                                                          Non-Null Count  Dtype  \n",
      "---  ------                                                                                          --------------  -----  \n",
      " 0   Country                                                                                         5642 non-null   object \n",
      " 1   Code                                                                                            5414 non-null   object \n",
      " 2   Year                                                                                            5642 non-null   int64  \n",
      " 3   Consumption of controlled substance (zero-filled) - Chemical: Methyl Chloroform (TCA)           5642 non-null   float64\n",
      " 4   Consumption of controlled substance (zero-filled) - Chemical: Methyl Bromide (MB)               5642 non-null   float64\n",
      " 5   Consumption of controlled substance (zero-filled) - Chemical: Hydrochlorofluorocarbons (HCFCs)  5642 non-null   float64\n",
      " 6   Consumption of controlled substance (zero-filled) - Chemical: Carbon Tetrachloride (CTC)        5642 non-null   float64\n",
      " 7   Consumption of controlled substance (zero-filled) - Chemical: Halons                            5642 non-null   float64\n",
      " 8   Consumption of controlled substance (zero-filled) - Chemical: Chlorofluorocarbons (CFCs)        5642 non-null   float64\n",
      "dtypes: float64(6), int64(1), object(2)\n",
      "memory usage: 396.8+ KB\n"
     ]
    }
   ],
   "source": [
    "df.info()"
   ]
  },
  {
   "cell_type": "code",
   "execution_count": 28,
   "id": "a82b5c59",
   "metadata": {},
   "outputs": [],
   "source": [
    "df.rename(columns={'Consumption of controlled substance (zero-filled) - Chemical: Methyl Chloroform (TCA)':'Methyl Chloroform','Consumption of controlled substance (zero-filled) - Chemical: Methyl Bromide (MB)':'Methyl Bromide','Consumption of controlled substance (zero-filled) - Chemical: Hydrochlorofluorocarbons (HCFCs)':'Hydrochlorofluorocarbons','Consumption of controlled substance (zero-filled) - Chemical: Carbon Tetrachloride (CTC)':'Carbon Tetrachloride','Consumption of controlled substance (zero-filled) - Chemical: Halons':'Halons','Consumption of controlled substance (zero-filled) - Chemical: Chlorofluorocarbons (CFCs)':'Chlorofluorocarbons'},inplace=True)"
   ]
  },
  {
   "cell_type": "code",
   "execution_count": 29,
   "id": "ad39df33",
   "metadata": {
    "scrolled": true
   },
   "outputs": [
    {
     "data": {
      "text/html": [
       "<div>\n",
       "<style scoped>\n",
       "    .dataframe tbody tr th:only-of-type {\n",
       "        vertical-align: middle;\n",
       "    }\n",
       "\n",
       "    .dataframe tbody tr th {\n",
       "        vertical-align: top;\n",
       "    }\n",
       "\n",
       "    .dataframe thead th {\n",
       "        text-align: right;\n",
       "    }\n",
       "</style>\n",
       "<table border=\"1\" class=\"dataframe\">\n",
       "  <thead>\n",
       "    <tr style=\"text-align: right;\">\n",
       "      <th></th>\n",
       "      <th>Country</th>\n",
       "      <th>Year</th>\n",
       "      <th>Methyl Chloroform</th>\n",
       "      <th>Methyl Bromide</th>\n",
       "      <th>Hydrochlorofluorocarbons</th>\n",
       "      <th>Carbon Tetrachloride</th>\n",
       "      <th>Halons</th>\n",
       "      <th>Chlorofluorocarbons</th>\n",
       "    </tr>\n",
       "  </thead>\n",
       "  <tbody>\n",
       "    <tr>\n",
       "      <th>0</th>\n",
       "      <td>Afghanistan</td>\n",
       "      <td>1986</td>\n",
       "      <td>0.0</td>\n",
       "      <td>0.0</td>\n",
       "      <td>0.00</td>\n",
       "      <td>0.0</td>\n",
       "      <td>3.0</td>\n",
       "      <td>220.0</td>\n",
       "    </tr>\n",
       "    <tr>\n",
       "      <th>1</th>\n",
       "      <td>Afghanistan</td>\n",
       "      <td>1989</td>\n",
       "      <td>0.0</td>\n",
       "      <td>0.0</td>\n",
       "      <td>0.00</td>\n",
       "      <td>0.9</td>\n",
       "      <td>0.0</td>\n",
       "      <td>0.0</td>\n",
       "    </tr>\n",
       "    <tr>\n",
       "      <th>2</th>\n",
       "      <td>Afghanistan</td>\n",
       "      <td>1995</td>\n",
       "      <td>0.0</td>\n",
       "      <td>0.0</td>\n",
       "      <td>0.00</td>\n",
       "      <td>0.0</td>\n",
       "      <td>1.9</td>\n",
       "      <td>380.0</td>\n",
       "    </tr>\n",
       "    <tr>\n",
       "      <th>3</th>\n",
       "      <td>Afghanistan</td>\n",
       "      <td>1996</td>\n",
       "      <td>0.0</td>\n",
       "      <td>0.0</td>\n",
       "      <td>0.00</td>\n",
       "      <td>0.0</td>\n",
       "      <td>1.9</td>\n",
       "      <td>380.0</td>\n",
       "    </tr>\n",
       "    <tr>\n",
       "      <th>4</th>\n",
       "      <td>Afghanistan</td>\n",
       "      <td>1997</td>\n",
       "      <td>0.0</td>\n",
       "      <td>0.0</td>\n",
       "      <td>0.00</td>\n",
       "      <td>0.0</td>\n",
       "      <td>1.9</td>\n",
       "      <td>380.0</td>\n",
       "    </tr>\n",
       "    <tr>\n",
       "      <th>...</th>\n",
       "      <td>...</td>\n",
       "      <td>...</td>\n",
       "      <td>...</td>\n",
       "      <td>...</td>\n",
       "      <td>...</td>\n",
       "      <td>...</td>\n",
       "      <td>...</td>\n",
       "      <td>...</td>\n",
       "    </tr>\n",
       "    <tr>\n",
       "      <th>5637</th>\n",
       "      <td>Zimbabwe</td>\n",
       "      <td>2018</td>\n",
       "      <td>0.0</td>\n",
       "      <td>0.0</td>\n",
       "      <td>10.07</td>\n",
       "      <td>0.0</td>\n",
       "      <td>0.0</td>\n",
       "      <td>0.0</td>\n",
       "    </tr>\n",
       "    <tr>\n",
       "      <th>5638</th>\n",
       "      <td>Zimbabwe</td>\n",
       "      <td>2019</td>\n",
       "      <td>0.0</td>\n",
       "      <td>0.0</td>\n",
       "      <td>9.85</td>\n",
       "      <td>0.0</td>\n",
       "      <td>0.0</td>\n",
       "      <td>0.0</td>\n",
       "    </tr>\n",
       "    <tr>\n",
       "      <th>5639</th>\n",
       "      <td>Zimbabwe</td>\n",
       "      <td>2020</td>\n",
       "      <td>0.0</td>\n",
       "      <td>0.0</td>\n",
       "      <td>6.28</td>\n",
       "      <td>0.0</td>\n",
       "      <td>0.0</td>\n",
       "      <td>0.0</td>\n",
       "    </tr>\n",
       "    <tr>\n",
       "      <th>5640</th>\n",
       "      <td>Zimbabwe</td>\n",
       "      <td>2021</td>\n",
       "      <td>0.0</td>\n",
       "      <td>0.0</td>\n",
       "      <td>4.10</td>\n",
       "      <td>0.0</td>\n",
       "      <td>0.0</td>\n",
       "      <td>0.0</td>\n",
       "    </tr>\n",
       "    <tr>\n",
       "      <th>5641</th>\n",
       "      <td>Zimbabwe</td>\n",
       "      <td>2022</td>\n",
       "      <td>0.0</td>\n",
       "      <td>0.0</td>\n",
       "      <td>3.79</td>\n",
       "      <td>0.0</td>\n",
       "      <td>0.0</td>\n",
       "      <td>0.0</td>\n",
       "    </tr>\n",
       "  </tbody>\n",
       "</table>\n",
       "<p>5642 rows × 8 columns</p>\n",
       "</div>"
      ],
      "text/plain": [
       "          Country  Year  Methyl Chloroform  Methyl Bromide  \\\n",
       "0     Afghanistan  1986                0.0             0.0   \n",
       "1     Afghanistan  1989                0.0             0.0   \n",
       "2     Afghanistan  1995                0.0             0.0   \n",
       "3     Afghanistan  1996                0.0             0.0   \n",
       "4     Afghanistan  1997                0.0             0.0   \n",
       "...           ...   ...                ...             ...   \n",
       "5637     Zimbabwe  2018                0.0             0.0   \n",
       "5638     Zimbabwe  2019                0.0             0.0   \n",
       "5639     Zimbabwe  2020                0.0             0.0   \n",
       "5640     Zimbabwe  2021                0.0             0.0   \n",
       "5641     Zimbabwe  2022                0.0             0.0   \n",
       "\n",
       "      Hydrochlorofluorocarbons  Carbon Tetrachloride  Halons  \\\n",
       "0                         0.00                   0.0     3.0   \n",
       "1                         0.00                   0.9     0.0   \n",
       "2                         0.00                   0.0     1.9   \n",
       "3                         0.00                   0.0     1.9   \n",
       "4                         0.00                   0.0     1.9   \n",
       "...                        ...                   ...     ...   \n",
       "5637                     10.07                   0.0     0.0   \n",
       "5638                      9.85                   0.0     0.0   \n",
       "5639                      6.28                   0.0     0.0   \n",
       "5640                      4.10                   0.0     0.0   \n",
       "5641                      3.79                   0.0     0.0   \n",
       "\n",
       "      Chlorofluorocarbons  \n",
       "0                   220.0  \n",
       "1                     0.0  \n",
       "2                   380.0  \n",
       "3                   380.0  \n",
       "4                   380.0  \n",
       "...                   ...  \n",
       "5637                  0.0  \n",
       "5638                  0.0  \n",
       "5639                  0.0  \n",
       "5640                  0.0  \n",
       "5641                  0.0  \n",
       "\n",
       "[5642 rows x 8 columns]"
      ]
     },
     "execution_count": 29,
     "metadata": {},
     "output_type": "execute_result"
    }
   ],
   "source": [
    "df"
   ]
  },
  {
   "cell_type": "code",
   "execution_count": 66,
   "id": "ac337eb5",
   "metadata": {},
   "outputs": [
    {
     "data": {
      "text/html": [
       "<div>\n",
       "<style scoped>\n",
       "    .dataframe tbody tr th:only-of-type {\n",
       "        vertical-align: middle;\n",
       "    }\n",
       "\n",
       "    .dataframe tbody tr th {\n",
       "        vertical-align: top;\n",
       "    }\n",
       "\n",
       "    .dataframe thead th {\n",
       "        text-align: right;\n",
       "    }\n",
       "</style>\n",
       "<table border=\"1\" class=\"dataframe\">\n",
       "  <thead>\n",
       "    <tr style=\"text-align: right;\">\n",
       "      <th></th>\n",
       "      <th>Country</th>\n",
       "      <th>Year</th>\n",
       "      <th>Methyl Chloroform</th>\n",
       "      <th>Methyl Bromide</th>\n",
       "      <th>Hydrochlorofluorocarbons</th>\n",
       "      <th>Carbon Tetrachloride</th>\n",
       "      <th>Halons</th>\n",
       "      <th>Chlorofluorocarbons</th>\n",
       "    </tr>\n",
       "  </thead>\n",
       "  <tbody>\n",
       "    <tr>\n",
       "      <th>5512</th>\n",
       "      <td>World</td>\n",
       "      <td>1989</td>\n",
       "      <td>65667.4</td>\n",
       "      <td>127.899994</td>\n",
       "      <td>14335.7</td>\n",
       "      <td>349591.0</td>\n",
       "      <td>186793.5</td>\n",
       "      <td>1041673.2</td>\n",
       "    </tr>\n",
       "  </tbody>\n",
       "</table>\n",
       "</div>"
      ],
      "text/plain": [
       "     Country  Year  Methyl Chloroform  Methyl Bromide  \\\n",
       "5512   World  1989            65667.4      127.899994   \n",
       "\n",
       "      Hydrochlorofluorocarbons  Carbon Tetrachloride    Halons  \\\n",
       "5512                   14335.7              349591.0  186793.5   \n",
       "\n",
       "      Chlorofluorocarbons  \n",
       "5512            1041673.2  "
      ]
     },
     "execution_count": 66,
     "metadata": {},
     "output_type": "execute_result"
    }
   ],
   "source": [
    "x = df[df[\"Carbon Tetrachloride\"]>200000]\n",
    "x.head()\n"
   ]
  },
  {
   "cell_type": "code",
   "execution_count": 18,
   "id": "8dea9ff5",
   "metadata": {},
   "outputs": [
    {
     "data": {
      "text/plain": [
       "<Axes: >"
      ]
     },
     "execution_count": 18,
     "metadata": {},
     "output_type": "execute_result"
    },
    {
     "data": {
      "image/png": "[encoded data removed]",
      "text/plain": [
       "<Figure size 640x480 with 1 Axes>"
      ]
     },
     "metadata": {},
     "output_type": "display_data"
    }
   ],
   "source": [
    "sns.boxplot(df['Methyl Chloroform'])"
   ]
  },
  {
   "cell_type": "code",
   "execution_count": 19,
   "id": "6e6c5b7e",
   "metadata": {},
   "outputs": [
    {
     "data": {
      "text/plain": [
       "<Axes: >"
      ]
     },
     "execution_count": 19,
     "metadata": {},
     "output_type": "execute_result"
    },
    {
     "data": {
      "image/png": "[encoded data removed]",
      "text/plain": [
       "<Figure size 640x480 with 1 Axes>"
      ]
     },
     "metadata": {},
     "output_type": "display_data"
    }
   ],
   "source": [
    "sns.boxplot(df['Methyl Bromide'])"
   ]
  },
  {
   "cell_type": "code",
   "execution_count": 20,
   "id": "3cbace72",
   "metadata": {},
   "outputs": [
    {
     "data": {
      "text/plain": [
       "<Axes: >"
      ]
     },
     "execution_count": 20,
     "metadata": {},
     "output_type": "execute_result"
    },
    {
     "data": {
      "image/png": "[encoded data removed]",
      "text/plain": [
       "<Figure size 640x480 with 1 Axes>"
      ]
     },
     "metadata": {},
     "output_type": "display_data"
    }
   ],
   "source": [
    "sns.boxplot(df['Hydrochlorofluorocarbons'])"
   ]
  },
  {
   "cell_type": "code",
   "execution_count": 21,
   "id": "b98c4fce",
   "metadata": {},
   "outputs": [
    {
     "data": {
      "text/plain": [
       "<Axes: >"
      ]
     },
     "execution_count": 21,
     "metadata": {},
     "output_type": "execute_result"
    },
    {
     "data": {
      "image/png": "[encoded data removed]",
      "text/plain": [
       "<Figure size 640x480 with 1 Axes>"
      ]
     },
     "metadata": {},
     "output_type": "display_data"
    }
   ],
   "source": [
    "sns.boxplot(df['Carbon Tetrachloride'])"
   ]
  },
  {
   "cell_type": "code",
   "execution_count": 34,
   "id": "2ccdfa18",
   "metadata": {},
   "outputs": [
    {
     "data": {
      "text/plain": [
       "<Axes: >"
      ]
     },
     "execution_count": 34,
     "metadata": {},
     "output_type": "execute_result"
    },
    {
     "data": {
      "image/png": "[encoded data removed]",
      "text/plain": [
       "<Figure size 640x480 with 1 Axes>"
      ]
     },
     "metadata": {},
     "output_type": "display_data"
    }
   ],
   "source": [
    "sns.boxplot(df['Halons'])"
   ]
  },
  {
   "cell_type": "code",
   "execution_count": 35,
   "id": "a9a0f5eb",
   "metadata": {},
   "outputs": [
    {
     "data": {
      "text/plain": [
       "<Axes: >"
      ]
     },
     "execution_count": 35,
     "metadata": {},
     "output_type": "execute_result"
    },
    {
     "data": {
      "image/png": "[encoded data removed]",
      "text/plain": [
       "<Figure size 640x480 with 1 Axes>"
      ]
     },
     "metadata": {},
     "output_type": "display_data"
    }
   ],
   "source": [
    "sns.boxplot(df['Chlorofluorocarbons'])"
   ]
  },
  {
   "cell_type": "code",
   "execution_count": 38,
   "id": "d003d4c9",
   "metadata": {},
   "outputs": [
    {
     "data": {
      "text/plain": [
       "5515     93159.6\n",
       "4076    103290.0\n",
       "5516    128015.6\n",
       "1703    162120.4\n",
       "5512    349591.0\n",
       "Name: Carbon Tetrachloride, dtype: float64"
      ]
     },
     "execution_count": 38,
     "metadata": {},
     "output_type": "execute_result"
    }
   ],
   "source": [
    "df['Carbon Tetrachloride'].sort_values().tail()"
   ]
  },
  {
   "cell_type": "code",
   "execution_count": 41,
   "id": "6f1f180d",
   "metadata": {},
   "outputs": [
    {
     "name": "stdout",
     "output_type": "stream",
     "text": [
      "<class 'pandas.core.series.Series'>\n",
      "RangeIndex: 5642 entries, 0 to 5641\n",
      "Series name: Carbon Tetrachloride\n",
      "Non-Null Count  Dtype  \n",
      "--------------  -----  \n",
      "5642 non-null   float64\n",
      "dtypes: float64(1)\n",
      "memory usage: 44.2 KB\n"
     ]
    }
   ],
   "source": [
    "df['Carbon Tetrachloride'].info()"
   ]
  },
  {
   "cell_type": "code",
   "execution_count": 43,
   "id": "143e1374",
   "metadata": {},
   "outputs": [
    {
     "name": "stdout",
     "output_type": "stream",
     "text": [
      "19921.79449327319\n",
      "-19219.575707992437\n"
     ]
    }
   ],
   "source": [
    "upper_limit = df['Carbon Tetrachloride'].mean() + 3*df['Carbon Tetrachloride'].std()\n",
    "lower_limit = df['Carbon Tetrachloride'].mean() - 3*df['Carbon Tetrachloride'].std()\n",
    "print(upper_limit)\n",
    "print(lower_limit)"
   ]
  },
  {
   "cell_type": "code",
   "execution_count": 50,
   "id": "2406d39a",
   "metadata": {},
   "outputs": [
    {
     "data": {
      "text/plain": [
       "False"
      ]
     },
     "execution_count": 50,
     "metadata": {},
     "output_type": "execute_result"
    }
   ],
   "source": [
    "df.isnull().values.any()"
   ]
  },
  {
   "cell_type": "code",
   "execution_count": 48,
   "id": "63b162a7",
   "metadata": {},
   "outputs": [
    {
     "data": {
      "text/plain": [
       "False"
      ]
     },
     "execution_count": 48,
     "metadata": {},
     "output_type": "execute_result"
    }
   ],
   "source": [
    "df.duplicated().any()"
   ]
  },
  {
   "cell_type": "code",
   "execution_count": 49,
   "id": "87b91507",
   "metadata": {},
   "outputs": [
    {
     "data": {
      "text/plain": [
       "Country                      object\n",
       "Year                          int64\n",
       "Methyl Chloroform           float64\n",
       "Methyl Bromide              float64\n",
       "Hydrochlorofluorocarbons    float64\n",
       "Carbon Tetrachloride        float64\n",
       "Halons                      float64\n",
       "Chlorofluorocarbons         float64\n",
       "dtype: object"
      ]
     },
     "execution_count": 49,
     "metadata": {},
     "output_type": "execute_result"
    }
   ],
   "source": [
    "df.dtypes"
   ]
  },
  {
   "cell_type": "code",
   "execution_count": 67,
   "id": "a9aa11d0",
   "metadata": {},
   "outputs": [],
   "source": [
    "df.to_csv('cleaned_ozone_layer.csv', index = None)"
   ]
  },
  {
   "cell_type": "code",
   "execution_count": null,
   "id": "82af382f",
   "metadata": {},
   "outputs": [],
   "source": []
  }
 ],
 "metadata": {
  "kernelspec": {
   "display_name": "Python 3 (ipykernel)",
   "language": "python",
   "name": "python3"
  },
  "language_info": {
   "codemirror_mode": {
    "name": "ipython",
    "version": 3
   },
   "file_extension": ".py",
   "mimetype": "text/x-python",
   "name": "python",
   "nbconvert_exporter": "python",
   "pygments_lexer": "ipython3",
   "version": "3.11.5"
  }
 },
 "nbformat": 4,
 "nbformat_minor": 5
}
