{
 "cells": [
  {
   "cell_type": "code",
   "execution_count": 10,
   "id": "f4de7b2c",
   "metadata": {},
   "outputs": [],
   "source": [
    "import pandas as pd"
   ]
  },
  {
   "cell_type": "code",
   "execution_count": 24,
   "id": "8ed9bec9",
   "metadata": {},
   "outputs": [],
   "source": [
    "import numpy as np\n",
    "\n",
    "from matplotlib import pyplot as plt\n",
    "%matplotlib inline\n",
    "\n",
    "import seaborn as sns"
   ]
  },
  {
   "cell_type": "code",
   "execution_count": 11,
   "id": "1a9887ed",
   "metadata": {},
   "outputs": [],
   "source": [
    "df = pd.read_csv('Fossil fuels consumption.csv')"
   ]
  },
  {
   "cell_type": "code",
   "execution_count": 12,
   "id": "99da3089",
   "metadata": {},
   "outputs": [
    {
     "data": {
      "text/html": [
       "<div>\n",
       "<style scoped>\n",
       "    .dataframe tbody tr th:only-of-type {\n",
       "        vertical-align: middle;\n",
       "    }\n",
       "\n",
       "    .dataframe tbody tr th {\n",
       "        vertical-align: top;\n",
       "    }\n",
       "\n",
       "    .dataframe thead th {\n",
       "        text-align: right;\n",
       "    }\n",
       "</style>\n",
       "<table border=\"1\" class=\"dataframe\">\n",
       "  <thead>\n",
       "    <tr style=\"text-align: right;\">\n",
       "      <th></th>\n",
       "      <th>Entity</th>\n",
       "      <th>Code</th>\n",
       "      <th>Year</th>\n",
       "      <th>Fossil fuels (TWh)</th>\n",
       "    </tr>\n",
       "  </thead>\n",
       "  <tbody>\n",
       "    <tr>\n",
       "      <th>0</th>\n",
       "      <td>Africa</td>\n",
       "      <td>NaN</td>\n",
       "      <td>1965</td>\n",
       "      <td>675.20180</td>\n",
       "    </tr>\n",
       "    <tr>\n",
       "      <th>1</th>\n",
       "      <td>Africa</td>\n",
       "      <td>NaN</td>\n",
       "      <td>1966</td>\n",
       "      <td>704.27030</td>\n",
       "    </tr>\n",
       "    <tr>\n",
       "      <th>2</th>\n",
       "      <td>Africa</td>\n",
       "      <td>NaN</td>\n",
       "      <td>1967</td>\n",
       "      <td>710.05896</td>\n",
       "    </tr>\n",
       "    <tr>\n",
       "      <th>3</th>\n",
       "      <td>Africa</td>\n",
       "      <td>NaN</td>\n",
       "      <td>1968</td>\n",
       "      <td>744.59576</td>\n",
       "    </tr>\n",
       "    <tr>\n",
       "      <th>4</th>\n",
       "      <td>Africa</td>\n",
       "      <td>NaN</td>\n",
       "      <td>1969</td>\n",
       "      <td>757.31635</td>\n",
       "    </tr>\n",
       "    <tr>\n",
       "      <th>...</th>\n",
       "      <td>...</td>\n",
       "      <td>...</td>\n",
       "      <td>...</td>\n",
       "      <td>...</td>\n",
       "    </tr>\n",
       "    <tr>\n",
       "      <th>4957</th>\n",
       "      <td>World</td>\n",
       "      <td>OWID_WRL</td>\n",
       "      <td>2018</td>\n",
       "      <td>135556.36000</td>\n",
       "    </tr>\n",
       "    <tr>\n",
       "      <th>4958</th>\n",
       "      <td>World</td>\n",
       "      <td>OWID_WRL</td>\n",
       "      <td>2019</td>\n",
       "      <td>136105.72000</td>\n",
       "    </tr>\n",
       "    <tr>\n",
       "      <th>4959</th>\n",
       "      <td>World</td>\n",
       "      <td>OWID_WRL</td>\n",
       "      <td>2020</td>\n",
       "      <td>129446.44000</td>\n",
       "    </tr>\n",
       "    <tr>\n",
       "      <th>4960</th>\n",
       "      <td>World</td>\n",
       "      <td>OWID_WRL</td>\n",
       "      <td>2021</td>\n",
       "      <td>136585.12000</td>\n",
       "    </tr>\n",
       "    <tr>\n",
       "      <th>4961</th>\n",
       "      <td>World</td>\n",
       "      <td>OWID_WRL</td>\n",
       "      <td>2022</td>\n",
       "      <td>137236.67000</td>\n",
       "    </tr>\n",
       "  </tbody>\n",
       "</table>\n",
       "<p>4962 rows × 4 columns</p>\n",
       "</div>"
      ],
      "text/plain": [
       "      Entity      Code  Year  Fossil fuels (TWh)\n",
       "0     Africa       NaN  1965           675.20180\n",
       "1     Africa       NaN  1966           704.27030\n",
       "2     Africa       NaN  1967           710.05896\n",
       "3     Africa       NaN  1968           744.59576\n",
       "4     Africa       NaN  1969           757.31635\n",
       "...      ...       ...   ...                 ...\n",
       "4957   World  OWID_WRL  2018        135556.36000\n",
       "4958   World  OWID_WRL  2019        136105.72000\n",
       "4959   World  OWID_WRL  2020        129446.44000\n",
       "4960   World  OWID_WRL  2021        136585.12000\n",
       "4961   World  OWID_WRL  2022        137236.67000\n",
       "\n",
       "[4962 rows x 4 columns]"
      ]
     },
     "execution_count": 12,
     "metadata": {},
     "output_type": "execute_result"
    }
   ],
   "source": [
    "df"
   ]
  },
  {
   "cell_type": "code",
   "execution_count": 13,
   "id": "725895c5",
   "metadata": {},
   "outputs": [
    {
     "data": {
      "text/plain": [
       "Entity                False\n",
       "Code                   True\n",
       "Year                  False\n",
       "Fossil fuels (TWh)    False\n",
       "dtype: bool"
      ]
     },
     "execution_count": 13,
     "metadata": {},
     "output_type": "execute_result"
    }
   ],
   "source": [
    "df.isnull().any()"
   ]
  },
  {
   "cell_type": "code",
   "execution_count": 14,
   "id": "212412fb",
   "metadata": {},
   "outputs": [
    {
     "data": {
      "text/plain": [
       "0            NaN\n",
       "1            NaN\n",
       "2            NaN\n",
       "3            NaN\n",
       "4            NaN\n",
       "          ...   \n",
       "4957    OWID_WRL\n",
       "4958    OWID_WRL\n",
       "4959    OWID_WRL\n",
       "4960    OWID_WRL\n",
       "4961    OWID_WRL\n",
       "Name: Code, Length: 4962, dtype: object"
      ]
     },
     "execution_count": 14,
     "metadata": {},
     "output_type": "execute_result"
    }
   ],
   "source": [
    "df['Code']"
   ]
  },
  {
   "cell_type": "code",
   "execution_count": 16,
   "id": "6517fe68",
   "metadata": {},
   "outputs": [
    {
     "name": "stdout",
     "output_type": "stream",
     "text": [
      "<class 'pandas.core.frame.DataFrame'>\n",
      "RangeIndex: 4962 entries, 0 to 4961\n",
      "Data columns (total 4 columns):\n",
      " #   Column              Non-Null Count  Dtype  \n",
      "---  ------              --------------  -----  \n",
      " 0   Entity              4962 non-null   object \n",
      " 1   Code                3635 non-null   object \n",
      " 2   Year                4962 non-null   int64  \n",
      " 3   Fossil fuels (TWh)  4962 non-null   float64\n",
      "dtypes: float64(1), int64(1), object(2)\n",
      "memory usage: 155.2+ KB\n"
     ]
    }
   ],
   "source": [
    "df.info()"
   ]
  },
  {
   "cell_type": "code",
   "execution_count": 17,
   "id": "8b917444",
   "metadata": {},
   "outputs": [
    {
     "data": {
      "text/plain": [
       "Entity                 object\n",
       "Code                   object\n",
       "Year                    int64\n",
       "Fossil fuels (TWh)    float64\n",
       "dtype: object"
      ]
     },
     "execution_count": 17,
     "metadata": {},
     "output_type": "execute_result"
    }
   ],
   "source": [
    "df.dtypes"
   ]
  },
  {
   "cell_type": "code",
   "execution_count": 18,
   "id": "ffb27a67",
   "metadata": {},
   "outputs": [
    {
     "data": {
      "text/plain": [
       "0       False\n",
       "1       False\n",
       "2       False\n",
       "3       False\n",
       "4       False\n",
       "        ...  \n",
       "4957    False\n",
       "4958    False\n",
       "4959    False\n",
       "4960    False\n",
       "4961    False\n",
       "Length: 4962, dtype: bool"
      ]
     },
     "execution_count": 18,
     "metadata": {},
     "output_type": "execute_result"
    }
   ],
   "source": [
    "df.duplicated()"
   ]
  },
  {
   "cell_type": "code",
   "execution_count": 19,
   "id": "0f8586ff",
   "metadata": {},
   "outputs": [
    {
     "data": {
      "text/plain": [
       "0"
      ]
     },
     "execution_count": 19,
     "metadata": {},
     "output_type": "execute_result"
    }
   ],
   "source": [
    "df.duplicated().sum()"
   ]
  },
  {
   "cell_type": "code",
   "execution_count": 20,
   "id": "9872741c",
   "metadata": {},
   "outputs": [],
   "source": [
    "df.rename(columns = {'Entity':'Country'},inplace=True)"
   ]
  },
  {
   "cell_type": "code",
   "execution_count": 21,
   "id": "90f93316",
   "metadata": {},
   "outputs": [
    {
     "data": {
      "text/html": [
       "<div>\n",
       "<style scoped>\n",
       "    .dataframe tbody tr th:only-of-type {\n",
       "        vertical-align: middle;\n",
       "    }\n",
       "\n",
       "    .dataframe tbody tr th {\n",
       "        vertical-align: top;\n",
       "    }\n",
       "\n",
       "    .dataframe thead th {\n",
       "        text-align: right;\n",
       "    }\n",
       "</style>\n",
       "<table border=\"1\" class=\"dataframe\">\n",
       "  <thead>\n",
       "    <tr style=\"text-align: right;\">\n",
       "      <th></th>\n",
       "      <th>Country</th>\n",
       "      <th>Code</th>\n",
       "      <th>Year</th>\n",
       "      <th>Fossil fuels (TWh)</th>\n",
       "    </tr>\n",
       "  </thead>\n",
       "  <tbody>\n",
       "    <tr>\n",
       "      <th>0</th>\n",
       "      <td>Africa</td>\n",
       "      <td>NaN</td>\n",
       "      <td>1965</td>\n",
       "      <td>675.20180</td>\n",
       "    </tr>\n",
       "    <tr>\n",
       "      <th>1</th>\n",
       "      <td>Africa</td>\n",
       "      <td>NaN</td>\n",
       "      <td>1966</td>\n",
       "      <td>704.27030</td>\n",
       "    </tr>\n",
       "    <tr>\n",
       "      <th>2</th>\n",
       "      <td>Africa</td>\n",
       "      <td>NaN</td>\n",
       "      <td>1967</td>\n",
       "      <td>710.05896</td>\n",
       "    </tr>\n",
       "    <tr>\n",
       "      <th>3</th>\n",
       "      <td>Africa</td>\n",
       "      <td>NaN</td>\n",
       "      <td>1968</td>\n",
       "      <td>744.59576</td>\n",
       "    </tr>\n",
       "    <tr>\n",
       "      <th>4</th>\n",
       "      <td>Africa</td>\n",
       "      <td>NaN</td>\n",
       "      <td>1969</td>\n",
       "      <td>757.31635</td>\n",
       "    </tr>\n",
       "    <tr>\n",
       "      <th>...</th>\n",
       "      <td>...</td>\n",
       "      <td>...</td>\n",
       "      <td>...</td>\n",
       "      <td>...</td>\n",
       "    </tr>\n",
       "    <tr>\n",
       "      <th>4957</th>\n",
       "      <td>World</td>\n",
       "      <td>OWID_WRL</td>\n",
       "      <td>2018</td>\n",
       "      <td>135556.36000</td>\n",
       "    </tr>\n",
       "    <tr>\n",
       "      <th>4958</th>\n",
       "      <td>World</td>\n",
       "      <td>OWID_WRL</td>\n",
       "      <td>2019</td>\n",
       "      <td>136105.72000</td>\n",
       "    </tr>\n",
       "    <tr>\n",
       "      <th>4959</th>\n",
       "      <td>World</td>\n",
       "      <td>OWID_WRL</td>\n",
       "      <td>2020</td>\n",
       "      <td>129446.44000</td>\n",
       "    </tr>\n",
       "    <tr>\n",
       "      <th>4960</th>\n",
       "      <td>World</td>\n",
       "      <td>OWID_WRL</td>\n",
       "      <td>2021</td>\n",
       "      <td>136585.12000</td>\n",
       "    </tr>\n",
       "    <tr>\n",
       "      <th>4961</th>\n",
       "      <td>World</td>\n",
       "      <td>OWID_WRL</td>\n",
       "      <td>2022</td>\n",
       "      <td>137236.67000</td>\n",
       "    </tr>\n",
       "  </tbody>\n",
       "</table>\n",
       "<p>4962 rows × 4 columns</p>\n",
       "</div>"
      ],
      "text/plain": [
       "     Country      Code  Year  Fossil fuels (TWh)\n",
       "0     Africa       NaN  1965           675.20180\n",
       "1     Africa       NaN  1966           704.27030\n",
       "2     Africa       NaN  1967           710.05896\n",
       "3     Africa       NaN  1968           744.59576\n",
       "4     Africa       NaN  1969           757.31635\n",
       "...      ...       ...   ...                 ...\n",
       "4957   World  OWID_WRL  2018        135556.36000\n",
       "4958   World  OWID_WRL  2019        136105.72000\n",
       "4959   World  OWID_WRL  2020        129446.44000\n",
       "4960   World  OWID_WRL  2021        136585.12000\n",
       "4961   World  OWID_WRL  2022        137236.67000\n",
       "\n",
       "[4962 rows x 4 columns]"
      ]
     },
     "execution_count": 21,
     "metadata": {},
     "output_type": "execute_result"
    }
   ],
   "source": [
    "df"
   ]
  },
  {
   "cell_type": "code",
   "execution_count": 22,
   "id": "75f35ffa",
   "metadata": {},
   "outputs": [],
   "source": [
    "df.drop('Code',axis=1,inplace=True)"
   ]
  },
  {
   "cell_type": "code",
   "execution_count": 23,
   "id": "114d9b89",
   "metadata": {},
   "outputs": [
    {
     "data": {
      "text/html": [
       "<div>\n",
       "<style scoped>\n",
       "    .dataframe tbody tr th:only-of-type {\n",
       "        vertical-align: middle;\n",
       "    }\n",
       "\n",
       "    .dataframe tbody tr th {\n",
       "        vertical-align: top;\n",
       "    }\n",
       "\n",
       "    .dataframe thead th {\n",
       "        text-align: right;\n",
       "    }\n",
       "</style>\n",
       "<table border=\"1\" class=\"dataframe\">\n",
       "  <thead>\n",
       "    <tr style=\"text-align: right;\">\n",
       "      <th></th>\n",
       "      <th>Country</th>\n",
       "      <th>Year</th>\n",
       "      <th>Fossil fuels (TWh)</th>\n",
       "    </tr>\n",
       "  </thead>\n",
       "  <tbody>\n",
       "    <tr>\n",
       "      <th>0</th>\n",
       "      <td>Africa</td>\n",
       "      <td>1965</td>\n",
       "      <td>675.20180</td>\n",
       "    </tr>\n",
       "    <tr>\n",
       "      <th>1</th>\n",
       "      <td>Africa</td>\n",
       "      <td>1966</td>\n",
       "      <td>704.27030</td>\n",
       "    </tr>\n",
       "    <tr>\n",
       "      <th>2</th>\n",
       "      <td>Africa</td>\n",
       "      <td>1967</td>\n",
       "      <td>710.05896</td>\n",
       "    </tr>\n",
       "    <tr>\n",
       "      <th>3</th>\n",
       "      <td>Africa</td>\n",
       "      <td>1968</td>\n",
       "      <td>744.59576</td>\n",
       "    </tr>\n",
       "    <tr>\n",
       "      <th>4</th>\n",
       "      <td>Africa</td>\n",
       "      <td>1969</td>\n",
       "      <td>757.31635</td>\n",
       "    </tr>\n",
       "    <tr>\n",
       "      <th>...</th>\n",
       "      <td>...</td>\n",
       "      <td>...</td>\n",
       "      <td>...</td>\n",
       "    </tr>\n",
       "    <tr>\n",
       "      <th>4957</th>\n",
       "      <td>World</td>\n",
       "      <td>2018</td>\n",
       "      <td>135556.36000</td>\n",
       "    </tr>\n",
       "    <tr>\n",
       "      <th>4958</th>\n",
       "      <td>World</td>\n",
       "      <td>2019</td>\n",
       "      <td>136105.72000</td>\n",
       "    </tr>\n",
       "    <tr>\n",
       "      <th>4959</th>\n",
       "      <td>World</td>\n",
       "      <td>2020</td>\n",
       "      <td>129446.44000</td>\n",
       "    </tr>\n",
       "    <tr>\n",
       "      <th>4960</th>\n",
       "      <td>World</td>\n",
       "      <td>2021</td>\n",
       "      <td>136585.12000</td>\n",
       "    </tr>\n",
       "    <tr>\n",
       "      <th>4961</th>\n",
       "      <td>World</td>\n",
       "      <td>2022</td>\n",
       "      <td>137236.67000</td>\n",
       "    </tr>\n",
       "  </tbody>\n",
       "</table>\n",
       "<p>4962 rows × 3 columns</p>\n",
       "</div>"
      ],
      "text/plain": [
       "     Country  Year  Fossil fuels (TWh)\n",
       "0     Africa  1965           675.20180\n",
       "1     Africa  1966           704.27030\n",
       "2     Africa  1967           710.05896\n",
       "3     Africa  1968           744.59576\n",
       "4     Africa  1969           757.31635\n",
       "...      ...   ...                 ...\n",
       "4957   World  2018        135556.36000\n",
       "4958   World  2019        136105.72000\n",
       "4959   World  2020        129446.44000\n",
       "4960   World  2021        136585.12000\n",
       "4961   World  2022        137236.67000\n",
       "\n",
       "[4962 rows x 3 columns]"
      ]
     },
     "execution_count": 23,
     "metadata": {},
     "output_type": "execute_result"
    }
   ],
   "source": [
    "df"
   ]
  },
  {
   "cell_type": "code",
   "execution_count": 27,
   "id": "41fbd18a",
   "metadata": {},
   "outputs": [
    {
     "data": {
      "text/plain": [
       "<Axes: >"
      ]
     },
     "execution_count": 27,
     "metadata": {},
     "output_type": "execute_result"
    },
    {
     "data": {
      "image/png": "[encoded data removed]",
      "text/plain": [
       "<Figure size 640x480 with 1 Axes>"
      ]
     },
     "metadata": {},
     "output_type": "display_data"
    }
   ],
   "source": [
    "sns.boxplot(df['Fossil fuels (TWh)'])"
   ]
  },
  {
   "cell_type": "code",
   "execution_count": 31,
   "id": "5ee5a748",
   "metadata": {},
   "outputs": [
    {
     "data": {
      "text/plain": [
       "array(['Africa', 'Africa (EI)', 'Algeria', 'Argentina', 'Asia',\n",
       "       'Asia Pacific (EI)', 'Australia', 'Austria', 'Azerbaijan',\n",
       "       'Bangladesh', 'Belarus', 'Belgium', 'Brazil', 'Bulgaria',\n",
       "       'CIS (EI)', 'Canada', 'Central America (EI)', 'Chile', 'China',\n",
       "       'Colombia', 'Croatia', 'Cyprus', 'Czechia', 'Denmark',\n",
       "       'Eastern Africa (EI)', 'Ecuador', 'Egypt', 'Estonia', 'Europe',\n",
       "       'Europe (EI)', 'European Union (27)', 'Finland', 'France',\n",
       "       'Germany', 'Greece', 'High-income countries', 'Hong Kong',\n",
       "       'Hungary', 'Iceland', 'India', 'Indonesia', 'Iran', 'Iraq',\n",
       "       'Ireland', 'Israel', 'Italy', 'Japan', 'Kazakhstan', 'Kuwait',\n",
       "       'Latvia', 'Lithuania', 'Lower-middle-income countries',\n",
       "       'Luxembourg', 'Malaysia', 'Mexico', 'Middle Africa (EI)',\n",
       "       'Middle East (EI)', 'Morocco', 'Netherlands', 'New Zealand',\n",
       "       'Non-OECD (EI)', 'North America', 'North America (EI)',\n",
       "       'North Macedonia', 'Norway', 'OECD (EI)', 'Oceania', 'Oman',\n",
       "       'Pakistan', 'Peru', 'Philippines', 'Poland', 'Portugal', 'Qatar',\n",
       "       'Romania', 'Russia', 'Saudi Arabia', 'Singapore', 'Slovakia',\n",
       "       'Slovenia', 'South Africa', 'South America', 'South Korea',\n",
       "       'South and Central America (EI)', 'Spain', 'Sri Lanka', 'Sweden',\n",
       "       'Switzerland', 'Taiwan', 'Thailand', 'Trinidad and Tobago',\n",
       "       'Turkey', 'Turkmenistan', 'USSR', 'Ukraine',\n",
       "       'United Arab Emirates', 'United Kingdom', 'United States',\n",
       "       'Upper-middle-income countries', 'Uzbekistan', 'Venezuela',\n",
       "       'Vietnam', 'Western Africa (EI)', 'World'], dtype=object)"
      ]
     },
     "execution_count": 31,
     "metadata": {},
     "output_type": "execute_result"
    }
   ],
   "source": [
    "df['Country'].unique()"
   ]
  },
  {
   "cell_type": "code",
   "execution_count": 32,
   "id": "3086a053",
   "metadata": {},
   "outputs": [
    {
     "data": {
      "text/html": [
       "<div>\n",
       "<style scoped>\n",
       "    .dataframe tbody tr th:only-of-type {\n",
       "        vertical-align: middle;\n",
       "    }\n",
       "\n",
       "    .dataframe tbody tr th {\n",
       "        vertical-align: top;\n",
       "    }\n",
       "\n",
       "    .dataframe thead th {\n",
       "        text-align: right;\n",
       "    }\n",
       "</style>\n",
       "<table border=\"1\" class=\"dataframe\">\n",
       "  <thead>\n",
       "    <tr style=\"text-align: right;\">\n",
       "      <th></th>\n",
       "      <th>Country</th>\n",
       "      <th>Year</th>\n",
       "      <th>Fossil fuels (TWh)</th>\n",
       "    </tr>\n",
       "  </thead>\n",
       "  <tbody>\n",
       "    <tr>\n",
       "      <th>0</th>\n",
       "      <td>Africa</td>\n",
       "      <td>1965</td>\n",
       "      <td>675.20180</td>\n",
       "    </tr>\n",
       "    <tr>\n",
       "      <th>1</th>\n",
       "      <td>Africa</td>\n",
       "      <td>1966</td>\n",
       "      <td>704.27030</td>\n",
       "    </tr>\n",
       "    <tr>\n",
       "      <th>2</th>\n",
       "      <td>Africa</td>\n",
       "      <td>1967</td>\n",
       "      <td>710.05896</td>\n",
       "    </tr>\n",
       "    <tr>\n",
       "      <th>3</th>\n",
       "      <td>Africa</td>\n",
       "      <td>1968</td>\n",
       "      <td>744.59576</td>\n",
       "    </tr>\n",
       "    <tr>\n",
       "      <th>4</th>\n",
       "      <td>Africa</td>\n",
       "      <td>1969</td>\n",
       "      <td>757.31635</td>\n",
       "    </tr>\n",
       "    <tr>\n",
       "      <th>...</th>\n",
       "      <td>...</td>\n",
       "      <td>...</td>\n",
       "      <td>...</td>\n",
       "    </tr>\n",
       "    <tr>\n",
       "      <th>4957</th>\n",
       "      <td>World</td>\n",
       "      <td>2018</td>\n",
       "      <td>135556.36000</td>\n",
       "    </tr>\n",
       "    <tr>\n",
       "      <th>4958</th>\n",
       "      <td>World</td>\n",
       "      <td>2019</td>\n",
       "      <td>136105.72000</td>\n",
       "    </tr>\n",
       "    <tr>\n",
       "      <th>4959</th>\n",
       "      <td>World</td>\n",
       "      <td>2020</td>\n",
       "      <td>129446.44000</td>\n",
       "    </tr>\n",
       "    <tr>\n",
       "      <th>4960</th>\n",
       "      <td>World</td>\n",
       "      <td>2021</td>\n",
       "      <td>136585.12000</td>\n",
       "    </tr>\n",
       "    <tr>\n",
       "      <th>4961</th>\n",
       "      <td>World</td>\n",
       "      <td>2022</td>\n",
       "      <td>137236.67000</td>\n",
       "    </tr>\n",
       "  </tbody>\n",
       "</table>\n",
       "<p>4962 rows × 3 columns</p>\n",
       "</div>"
      ],
      "text/plain": [
       "     Country  Year  Fossil fuels (TWh)\n",
       "0     Africa  1965           675.20180\n",
       "1     Africa  1966           704.27030\n",
       "2     Africa  1967           710.05896\n",
       "3     Africa  1968           744.59576\n",
       "4     Africa  1969           757.31635\n",
       "...      ...   ...                 ...\n",
       "4957   World  2018        135556.36000\n",
       "4958   World  2019        136105.72000\n",
       "4959   World  2020        129446.44000\n",
       "4960   World  2021        136585.12000\n",
       "4961   World  2022        137236.67000\n",
       "\n",
       "[4962 rows x 3 columns]"
      ]
     },
     "execution_count": 32,
     "metadata": {},
     "output_type": "execute_result"
    }
   ],
   "source": [
    "df"
   ]
  },
  {
   "cell_type": "code",
   "execution_count": 33,
   "id": "684c9ab9",
   "metadata": {},
   "outputs": [],
   "source": [
    "df.to_csv('cleaned_fossilfuel_csv',index=None)"
   ]
  },
  {
   "cell_type": "code",
   "execution_count": null,
   "id": "870bb9ef",
   "metadata": {},
   "outputs": [],
   "source": []
  }
 ],
 "metadata": {
  "kernelspec": {
   "display_name": "Python 3 (ipykernel)",
   "language": "python",
   "name": "python3"
  },
  "language_info": {
   "codemirror_mode": {
    "name": "ipython",
    "version": 3
   },
   "file_extension": ".py",
   "mimetype": "text/x-python",
   "name": "python",
   "nbconvert_exporter": "python",
   "pygments_lexer": "ipython3",
   "version": "3.11.5"
  }
 },
 "nbformat": 4,
 "nbformat_minor": 5
}
